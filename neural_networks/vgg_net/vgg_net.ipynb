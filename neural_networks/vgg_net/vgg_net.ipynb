{
 "cells": [
  {
   "cell_type": "code",
   "execution_count": 1,
   "id": "72acdd5f",
   "metadata": {},
   "outputs": [],
   "source": [
    "import torch as t"
   ]
  },
  {
   "cell_type": "markdown",
   "id": "123c2719",
   "metadata": {},
   "source": [
    "*An implementation og VGG Network using Pytorch*"
   ]
  },
  {
   "cell_type": "code",
   "execution_count": 5,
   "id": "c8abdfcd",
   "metadata": {},
   "outputs": [],
   "source": [
    "vgg_configuration = {\n",
    "                    \"VGG_11\": [64, \"Max\", 128, \"Max\", 256, 256, \"Max\", 512, 512, \"Max\", 512, 512, \"Max\"],\n",
    "                     \"VGG_13\": [64, 64, \"Max\", 128, 128, \"Max\", 256, 256, \"Max\", 512, 512, \"Max\", 512, 512, \"Max\"],\n",
    "                     \"VGG_16\": [64, 64, \"Max\", 128, 128, \"Max\", 256, 256, 256, \"Max\", 512, 512, 512, \"Max\", 512, 512, 512, \"Max\"],\n",
    "                     \"VGG_19\": [64, 64, \"Max\", 128, 128, \"Max\", 256, 256, 256, 256, \"Max\", 512, 512, 512, 512, \"Max\", 512, 512, 512, 512, \"Max\"]\n",
    "                     }"
   ]
  },
  {
   "cell_type": "markdown",
   "id": "31fd0829",
   "metadata": {},
   "source": [
    "vgg_configuration is a dictionary which contains the confuration information viz. the convolution layer features. Max represents Max pooling\n",
    "The numbers represent the convolution layer outputs. The configuration is as per the paper whose link is mentioned in the README file.\n",
    "\n",
    "The format of this configuration is:\n",
    "key: name of the configuration\n",
    "value: list containing configuration information\n",
    "\n",
    "This list is iterated across to generate the layers. If \"Max\" is encountered, then a max pooling layer is created"
   ]
  },
  {
   "cell_type": "code",
   "execution_count": 8,
   "id": "506ea795",
   "metadata": {},
   "outputs": [],
   "source": [
    "class vgg_net(t.nn.Module):\n",
    "\n",
    "    def __init__(self, input_channels: int, num_class: int = 1000, conv_config: str = \"VGG_11\" ):\n",
    "        super().__init__()\n",
    "        self.input_channels = input_channels\n",
    "        self.num_class = num_class\n",
    "        self.conv = self.create_convolution(vgg_configuration[conv_config]) \n",
    "        self.fully_connected_layer = t.nn.Sequential(t.nn.AdaptiveAvgPool2d(7),\n",
    "                                     t.nn.Flatten(),\n",
    "                                     t.nn.Linear(512*7*7, 4096),\n",
    "                                     t.nn.ReLU(),\n",
    "                                     t.nn.Dropout(0.5),\n",
    "                                     t.nn.Linear(4096, self.num_class)                \n",
    "                                    )\n",
    "        \n",
    "    def forward(self, x):\n",
    "        x = self.conv(x)\n",
    "        x = self.fully_connected_layer(x)\n",
    "        return x \n",
    "    \n",
    "    def create_convolution(self, configuration: list):\n",
    "        self.neural_layers = []\n",
    "\n",
    "        for i in configuration:\n",
    "            if (isinstance(i, int)):\n",
    "                self.output_channels = i \n",
    "\n",
    "                self.neural_layers += [t.nn.Sequential(t.nn.Conv2d(self.input_channels, self.output_channels, kernel_size=(3,3), stride=(1,1), padding=(1,1)), \n",
    "                                                       t.nn.BatchNorm2d(self.output_channels),\n",
    "                                                       t.nn.ReLU(inplace= True))]\n",
    "                self.input_channels = i \n",
    "            \n",
    "            elif(i == \"Max\"):\n",
    "                self.neural_layers += [t.nn.MaxPool2d(kernel_size=(2,2), stride=(2,2))]\n",
    "            \n",
    "            return t.nn.Sequential(*self.neural_layers)"
   ]
  },
  {
   "cell_type": "code",
   "execution_count": 9,
   "id": "bffbb240",
   "metadata": {},
   "outputs": [],
   "source": [
    "vgg_11 = vgg_net(3, 1000, \"VGG_11\")"
   ]
  },
  {
   "cell_type": "markdown",
   "id": "919199f6",
   "metadata": {},
   "source": [
    "Having created a simple VGG11 Network, now iterating through the vgg_configuration and creating networks of each type\n",
    "```\n",
    "len(networks) \n",
    "```\n",
    "Will print value 4 as it iterates through the four keys\n",
    "\n",
    "To print the details of a specific network:\n",
    "```\n",
    "print(network[index])\n",
    "```\n",
    "where index has the values 0, 1, 2, and 3"
   ]
  },
  {
   "cell_type": "code",
   "execution_count": 15,
   "id": "dd11d08c",
   "metadata": {},
   "outputs": [
    {
     "name": "stdout",
     "output_type": "stream",
     "text": [
      "4\n"
     ]
    }
   ],
   "source": [
    "networks = [] \n",
    "for j in vgg_configuration.keys():\n",
    "    networks.append(vgg_net(3, 1000, j))\n",
    "\n",
    "print(len(networks))"
   ]
  }
 ],
 "metadata": {
  "kernelspec": {
   "display_name": "myconda",
   "language": "python",
   "name": "python3"
  },
  "language_info": {
   "codemirror_mode": {
    "name": "ipython",
    "version": 3
   },
   "file_extension": ".py",
   "mimetype": "text/x-python",
   "name": "python",
   "nbconvert_exporter": "python",
   "pygments_lexer": "ipython3",
   "version": "3.12.9"
  }
 },
 "nbformat": 4,
 "nbformat_minor": 5
}
