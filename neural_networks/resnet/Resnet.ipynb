{
  "nbformat": 4,
  "nbformat_minor": 0,
  "metadata": {
    "colab": {
      "provenance": [],
      "authorship_tag": "ABX9TyMhj0jy8TaAz7m/fk1WASSg",
      "include_colab_link": true
    },
    "kernelspec": {
      "name": "python3",
      "display_name": "Python 3"
    },
    "language_info": {
      "name": "python"
    }
  },
  "cells": [
    {
      "cell_type": "markdown",
      "metadata": {
        "id": "view-in-github",
        "colab_type": "text"
      },
      "source": [
        "<a href=\"https://colab.research.google.com/github/Sandeepan26/SR_ML_DL_RL_Repo/blob/main/neural_networks/resnet/Resnet.ipynb\" target=\"_parent\"><img src=\"https://colab.research.google.com/assets/colab-badge.svg\" alt=\"Open In Colab\"/></a>"
      ]
    },
    {
      "cell_type": "code",
      "execution_count": 2,
      "metadata": {
        "id": "wv8orOx6K3Rj"
      },
      "outputs": [],
      "source": [
        "import torchvision\n",
        "import torch"
      ]
    },
    {
      "cell_type": "markdown",
      "source": [
        "*This is an implementation of Residual Network Architecture in Pytorch* </br>\n",
        "[ResNet](https://arxiv.org/abs/1512.03385)"
      ],
      "metadata": {
        "id": "18kRbBq6o5qQ"
      }
    },
    {
      "cell_type": "markdown",
      "source": [
        "*A simple function to generate a neural network based on the input parameters*\n"
      ],
      "metadata": {
        "id": "i5pWSh8EngCc"
      }
    },
    {
      "cell_type": "code",
      "source": [
        "def create_convolution(input_channels: int, output_channels: int, kernel_size: int, stride_val: int):\n",
        "  network = [] #Creating an empty list to append the network and then produce it as the result of the function call\n",
        "  network += torch.nn.Sequential(torch.nn.Conv2d(in_channels=input_channels, out_channels=output_channels, kernel_size=kernel_size, stride=stride_val, padding=(kernel_size//2)),\n",
        "                                 torch.nn.BatchNorm2d(output_channels),\n",
        "                                 torch.nn.ReLU())\n",
        "  return (torch.nn.Sequential(torch.nn.Conv2d(in_channels=input_channels, out_channels=output_channels, kernel_size=kernel_size, stride=stride_val, padding=(kernel_size//2)),\n",
        "                                 torch.nn.BatchNorm2d(output_channels),\n",
        "                                 torch.nn.ReLU()))"
      ],
      "metadata": {
        "id": "R7SBr-ydnXyt"
      },
      "execution_count": 3,
      "outputs": []
    },
    {
      "cell_type": "code",
      "source": [
        "# Using the function above, creating a simple 32-layer Residual Network\n",
        "rsn_model = torch.nn.Sequential(create_convolution(3, 32, 7, 2),\n",
        "                                torch.nn.Sequential(*[create_convolution(input_channels=32 if i == 0 else 64, output_channels= 64, kernel_size=3, stride_val = 2 if i == 0 else 1) for i in range (6)]),\n",
        "                                torch.nn.Sequential(*[create_convolution(input_channels=64 if i == 0 else 128, output_channels=128, kernel_size=3, stride_val=2 if i == 0 else 1) for i in range(8)]),\n",
        "                                torch.nn.Sequential(*[create_convolution(input_channels=128 if i  == 0 else 256, output_channels=256, kernel_size=3, stride_val=2 if i == 0 else 1) for i in range(12)]),\n",
        "                                torch.nn.Sequential(*[create_convolution(input_channels=256 if i == 0 else 512, output_channels=512, kernel_size=3, stride_val=2 if i == 0 else 1) for i in range(6)]),\n",
        "                                torch.nn.AvgPool2d(4),\n",
        "                                torch.nn.Flatten(),\n",
        "                                torch.nn.Linear(512,1000)\n",
        "                                )\n"
      ],
      "metadata": {
        "id": "gt5pMbFqMDFz"
      },
      "execution_count": 4,
      "outputs": []
    },
    {
      "cell_type": "code",
      "source": [
        "# Generating a simple class for the architecture\n",
        "\n",
        "class arch_block(torch.nn.Module):    #This class inherits the torch.nn.Module\n",
        "\n",
        "  def __init__(self, num_in_channels:int , num_intermediate_channels:int, identity_downsample = None, stride:int =1):\n",
        "    super(arch_block, self).__init__()\n",
        "    self.expansion = 4\n",
        "    self.conv_1 = torch.nn.Conv2d(num_in_channels, num_intermediate_channels, kernel_size=1, stride=1, padding=0, bias=False)\n",
        "    self.bn_1 = torch.nn.BatchNorm2d(num_intermediate_channels)\n",
        "    self.conv_2 = torch.nn.Conv2d(num_intermediate_channels, num_intermediate_channels, kernel_size = 3, stride=stride, padding = 1, bias = False)\n",
        "    self.bn_2 = torch.nn.BatchNorm2d(num_intermediate_channels)\n",
        "    self.conv_3 = torch.nn.Conv2d(num_intermediate_channels, num_intermediate_channels*self.expansion, stride=1, kernel_size=1, padding=0, bias=False)\n",
        "    self.bn_3 = torch.nn.BatchNorm2d(num_intermediate_channels*self.expansion)\n",
        "    self.relu = torch.nn.ReLU()\n",
        "    self.identity_downsample= identity_downsample\n",
        "    self.stride = stride\n",
        "\n",
        "  def forward(self, x):\n",
        "    self.identity = self.x.clone()\n",
        "    self.x = self.conv_1(self.x)\n",
        "    self.x = self.bn_1(self.x)\n",
        "    self.conv_2(self.x)\n",
        "    self.bn_2(self.x)\n",
        "    self.conv_3(self.x)\n",
        "    self.bn_3(self.x)\n",
        "\n",
        "    if not isinstance(self.identity_downsample, None):\n",
        "      self.identity = self.identity_downsample(self.identity)\n",
        "\n",
        "    self.x += self.identity\n",
        "    self.x = self.relu(self.x)\n",
        "\n",
        "    return self.x\n",
        "\n"
      ],
      "metadata": {
        "id": "5sw-wJQbl8iD"
      },
      "execution_count": 5,
      "outputs": []
    },
    {
      "cell_type": "code",
      "source": [
        "arch = arch_block(3,3)\n"
      ],
      "metadata": {
        "id": "T0xsdBKLmI4Z"
      },
      "execution_count": 6,
      "outputs": []
    },
    {
      "cell_type": "markdown",
      "source": [
        "*The following code block is a class for generating a ResNet block for 101 layers and beyond*"
      ],
      "metadata": {
        "id": "j93JUgTgM3PF"
      }
    },
    {
      "cell_type": "code",
      "source": [
        "class ResNet(torch.nn.Module):\n",
        "\n",
        "  def __init__(self, arch_block: arch_block, layers:list, num_image_channels:int, num_classes:int):\n",
        "    super(ResNet, self).__init__()\n",
        "    self.in_channels = 64\n",
        "    self.conv_1 = torch.nn.Conv2d(in_channels = num_image_channels, out_channels=64, kernel_size=7, stride=2, padding=3, bias=False)\n",
        "    self.bn_1 = torch.nn.BatchNorm2d(64)\n",
        "    self.relu = torch.nn.ReLU()\n",
        "    self.maxpool2d = torch.nn.MaxPool2d(kernel_size=3, stride=2, padding=1)\n",
        "\n",
        "    #layers for ResNet\n",
        "\n",
        "    self.layer_1 = self._make_layer(arch_block, layers[0], intermediate_channels = 64, stride=1)\n",
        "    self.layer_2 = self._make_layer(arch_block, layers[1], intermediate_channels = 128, stride=2)\n",
        "    self.layer_3 = self._make_layer(arch_block, layers[2], intermediate_channels = 256, stride=2)\n",
        "    self.layer_4 = self._make_layer(arch_block, layers[3], intermediate_channels = 512, stride=2)\n",
        "\n",
        "    self.avgpool2d = torch.nn.AdaptiveAvgPool2d((1,1))\n",
        "    self.fully_connected = torch.nn.Linear(512*4, num_classes)\n",
        "\n",
        "\n",
        "  def forward(self, x):\n",
        "    self.x = self.conv_1(self.x)\n",
        "    self.x = self.bn_1(self.x)\n",
        "    self.x = self.relu(self.x)\n",
        "    self.x = self.maxpool2d(self.x)\n",
        "    self.x = self.layer_1(self.x)\n",
        "    self.x = self.layer_2(self.x)\n",
        "    self.x = self.layer_3(self.x)\n",
        "    self.x = self.layer_4(self.x)\n",
        "    self.x = self.avgpool2d(self.x)\n",
        "    self.x = self.x.reshape(self.x[0], -1)\n",
        "    self.x = self.fully_connected(self.x)\n",
        "\n",
        "    return self.x\n",
        "\n",
        "\n",
        "  def _make_layer(self, arch_block:arch_block, num_residual_blocks: int, intermediate_channels, stride:int):\n",
        "\n",
        "    self.identity_downsample = None\n",
        "    self.layers = []\n",
        "\n",
        "    if ((stride != 1) or (self.in_channels != intermediate_channels * 4)):\n",
        "      self.identity_downsample = torch.nn.Sequential(\n",
        "                                torch.nn.Conv2d(self.in_channels, intermediate_channels * 4, kernel_size=1, stride= stride, bias = False),\n",
        "                                torch.nn.BatchNorm2d(intermediate_channels * 4))\n",
        "\n",
        "    self.layers.append(arch_block(self.in_channels, intermediate_channels, identity_downsample=self.identity_downsample, stride=stride))\n",
        "\n",
        "    self.in_channels = intermediate_channels * 4\n",
        "\n",
        "    for i in range (num_residual_blocks - 1):\n",
        "      self.layers.append(arch_block(self.in_channels, intermediate_channels))\n",
        "\n",
        "    return torch.nn.Sequential(*self.layers)"
      ],
      "metadata": {
        "id": "Tc37lplMMi-T"
      },
      "execution_count": 9,
      "outputs": []
    },
    {
      "cell_type": "code",
      "source": [
        "def ResNet_50(image_channels:int =3, num_classes:int = 1000):\n",
        "  return ResNet(arch_block, [3,4,6,3], image_channels, num_classes)\n",
        "\n",
        "def ResNet_101(image_channels:int =3, num_classes:int = 1000):\n",
        "  return ResNet(arch_block, [3,4,23,3], image_channels, num_classes)\n",
        "\n",
        "def ResNet_152(image_channels:int =3, num_classes:int = 1000):\n",
        "  return ResNet(arch_block, [3,8,36,3], image_channels, num_classes)\n"
      ],
      "metadata": {
        "id": "pJueFsSdkOYj"
      },
      "execution_count": 14,
      "outputs": []
    },
    {
      "cell_type": "code",
      "source": [
        "ResNet_152() #Printing the ResNet block of 152 layers"
      ],
      "metadata": {
        "id": "siVyQaLlkbIJ"
      },
      "execution_count": null,
      "outputs": []
    },
    {
      "cell_type": "code",
      "source": [],
      "metadata": {
        "id": "ar5SNGqAlWi1"
      },
      "execution_count": null,
      "outputs": []
    }
  ]
}