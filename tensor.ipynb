{
 "cells": [
  {
   "cell_type": "code",
   "execution_count": 3,
   "metadata": {},
   "outputs": [],
   "source": [
    "import torch\n",
    "import numpy as np"
   ]
  },
  {
   "cell_type": "markdown",
   "metadata": {},
   "source": [
    "This code is based on leveraging the functionality of pytorch for a simple implementation of neural network and a toy model"
   ]
  },
  {
   "cell_type": "code",
   "execution_count": 11,
   "metadata": {},
   "outputs": [
    {
     "name": "stdout",
     "output_type": "stream",
     "text": [
      "tensor([[ 1,  4,  9],\n",
      "        [16, 25, 36]])\n"
     ]
    }
   ],
   "source": [
    "a = torch.tensor([[1,2,3],[4,5,6]])\n",
    "print(a**2)"
   ]
  },
  {
   "cell_type": "code",
   "execution_count": 12,
   "metadata": {},
   "outputs": [
    {
     "name": "stdout",
     "output_type": "stream",
     "text": [
      "The entered number is 4\n"
     ]
    }
   ],
   "source": [
    "n = input(\"Enter any number\")\n",
    "print(\"The entered number is\", n)"
   ]
  },
  {
   "cell_type": "code",
   "execution_count": null,
   "metadata": {},
   "outputs": [
    {
     "name": "stdout",
     "output_type": "stream",
     "text": [
      "tensor([[50, 60],\n",
      "        [69, 90]])\n"
     ]
    }
   ],
   "source": [
    "arr1 = torch.tensor([[1,2,3,4],[7,8,2,4]]) #4x2 matrix\n",
    "arr2 = torch.tensor([[1,2],[3,4],[5,6],[7,8]]) #2x4 matrix\n",
    "res = torch.matmul(arr1, arr2)\n",
    "print(res)"
   ]
  },
  {
   "cell_type": "code",
   "execution_count": null,
   "metadata": {},
   "outputs": [
    {
     "name": "stdout",
     "output_type": "stream",
     "text": [
      "tensor([[222596, 170105, 212622, 195622, 126857, 216486, 143545, 154424, 222231,\n",
      "         232332],\n",
      "        [257564, 259954, 253472, 237823, 231280, 296406, 198109, 206385, 259911,\n",
      "         346796],\n",
      "        [297018, 214921, 279660, 236435, 176505, 299089, 227346, 283217, 285594,\n",
      "         291476],\n",
      "        [265528, 257088, 278601, 278242, 219902, 320955, 202906, 200146, 270367,\n",
      "         336259],\n",
      "        [341672, 249603, 376617, 361312, 199355, 275566, 263821, 280417, 269732,\n",
      "         410586],\n",
      "        [287434, 290225, 355204, 292672, 246540, 385681, 265790, 207525, 338382,\n",
      "         389765],\n",
      "        [399204, 307878, 419695, 371136, 273791, 421757, 307236, 297697, 422356,\n",
      "         442111],\n",
      "        [192148, 157246, 197827, 203159, 161702, 215316, 121300, 135953, 215725,\n",
      "         253112],\n",
      "        [243779, 151198, 229877, 247100, 139390, 221399, 174526, 178944, 196718,\n",
      "         260217],\n",
      "        [316487, 237527, 357616, 318592, 191329, 292048, 242779, 241157, 286271,\n",
      "         397889]])\n"
     ]
    }
   ],
   "source": [
    "random_arr1 = torch.randint(100,(10,10))  #generares a 10x10 tensor each randomized in the range of 100\n",
    "random_arr2 = torch.randint(1000,(10,10)) \n",
    "\n",
    "print(torch.matmul(random_arr1, random_arr2))"
   ]
  },
  {
   "cell_type": "code",
   "execution_count": null,
   "metadata": {},
   "outputs": [],
   "source": []
  },
  {
   "cell_type": "code",
   "execution_count": null,
   "metadata": {},
   "outputs": [],
   "source": []
  }
 ],
 "metadata": {
  "kernelspec": {
   "display_name": "myconda",
   "language": "python",
   "name": "python3"
  },
  "language_info": {
   "codemirror_mode": {
    "name": "ipython",
    "version": 3
   },
   "file_extension": ".py",
   "mimetype": "text/x-python",
   "name": "python",
   "nbconvert_exporter": "python",
   "pygments_lexer": "ipython3",
   "version": "3.12.9"
  }
 },
 "nbformat": 4,
 "nbformat_minor": 2
}
