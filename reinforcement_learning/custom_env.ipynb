{
 "cells": [
  {
   "cell_type": "code",
   "execution_count": 13,
   "id": "cf10a702",
   "metadata": {},
   "outputs": [],
   "source": [
    "#Imports\n",
    "import gym\n",
    "from gym import spaces\n",
    "import numpy as np\n",
    "import io\n",
    "from IPython.core.debugger import set_trace"
   ]
  },
  {
   "cell_type": "code",
   "execution_count": 14,
   "id": "90ca5627",
   "metadata": {},
   "outputs": [],
   "source": [
    "class env(gym.Env):\n",
    "\n",
    "    metadata = {'render_modes': ['human', 'ansi']}\n",
    "    \n",
    "    def __init__(self, shape = [4,4]):\n",
    "        pass\n",
    "\n"
   ]
  },
  {
   "cell_type": "code",
   "execution_count": null,
   "id": "669d25c8",
   "metadata": {},
   "outputs": [],
   "source": []
  }
 ],
 "metadata": {
  "kernelspec": {
   "display_name": "myconda",
   "language": "python",
   "name": "python3"
  },
  "language_info": {
   "codemirror_mode": {
    "name": "ipython",
    "version": 3
   },
   "file_extension": ".py",
   "mimetype": "text/x-python",
   "name": "python",
   "nbconvert_exporter": "python",
   "pygments_lexer": "ipython3",
   "version": "3.12.9"
  }
 },
 "nbformat": 4,
 "nbformat_minor": 5
}
